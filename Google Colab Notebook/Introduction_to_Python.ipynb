{
  "nbformat": 4,
  "nbformat_minor": 0,
  "metadata": {
    "colab": {
      "provenance": [],
      "authorship_tag": "ABX9TyPcNiEf5a1JUchhop3/oRTn",
      "include_colab_link": true
    },
    "kernelspec": {
      "name": "python3",
      "display_name": "Python 3"
    },
    "language_info": {
      "name": "python"
    }
  },
  "cells": [
    {
      "cell_type": "markdown",
      "metadata": {
        "id": "view-in-github",
        "colab_type": "text"
      },
      "source": [
        "<a href=\"https://colab.research.google.com/github/Princepm02/Python/blob/main/Module_1.ipynb\" target=\"_parent\"><img src=\"https://colab.research.google.com/assets/colab-badge.svg\" alt=\"Open In Colab\"/></a>"
      ]
    },
    {
      "cell_type": "markdown",
      "metadata": {
        "id": "7RtzV0nmZ0y1"
      },
      "source": [
        "Use Print Function"
      ]
    },
    {
      "cell_type": "code",
      "metadata": {
        "colab": {
          "base_uri": "https://localhost:8080/"
        },
        "id": "5iX3gVd1Z9_d",
        "outputId": "6c2d6956-8e1c-432f-c201-360de43c8144"
      },
      "source": [
        "print(\"Presidency University\")"
      ],
      "execution_count": null,
      "outputs": [
        {
          "output_type": "stream",
          "text": [
            "Presidency University\n"
          ],
          "name": "stdout"
        }
      ]
    },
    {
      "cell_type": "code",
      "metadata": {
        "colab": {
          "base_uri": "https://localhost:8080/"
        },
        "id": "2RYdqV4caKSt",
        "outputId": "6df499c1-0301-4764-ebd7-fb300e404491"
      },
      "source": [
        "print('Presidency University')"
      ],
      "execution_count": null,
      "outputs": [
        {
          "output_type": "stream",
          "text": [
            "Presidency University\n"
          ],
          "name": "stdout"
        }
      ]
    },
    {
      "cell_type": "code",
      "metadata": {
        "colab": {
          "base_uri": "https://localhost:8080/"
        },
        "id": "3WXTNX5Jad3C",
        "outputId": "2f02a250-54f2-42aa-bb34-faa503194894"
      },
      "source": [
        "print('''Presidency University''')"
      ],
      "execution_count": null,
      "outputs": [
        {
          "output_type": "stream",
          "text": [
            "Presidency University\n"
          ],
          "name": "stdout"
        }
      ]
    },
    {
      "cell_type": "code",
      "metadata": {
        "colab": {
          "base_uri": "https://localhost:8080/"
        },
        "id": "DSxLF6BrajzM",
        "outputId": "71406677-ef1b-4d90-c851-c831338486c9"
      },
      "source": [
        "print(''' \"Presidency University\" ''')"
      ],
      "execution_count": null,
      "outputs": [
        {
          "output_type": "stream",
          "text": [
            " \"Presidency University\" \n"
          ],
          "name": "stdout"
        }
      ]
    },
    {
      "cell_type": "code",
      "metadata": {
        "colab": {
          "base_uri": "https://localhost:8080/"
        },
        "id": "Je0JVIdGa4y1",
        "outputId": "df9771b5-7980-447b-9d5d-967660c9ee25"
      },
      "source": [
        "print(\"Let's Go\")"
      ],
      "execution_count": null,
      "outputs": [
        {
          "output_type": "stream",
          "text": [
            "Let's Go\n"
          ],
          "name": "stdout"
        }
      ]
    },
    {
      "cell_type": "code",
      "metadata": {
        "colab": {
          "base_uri": "https://localhost:8080/"
        },
        "id": "VIqwsRfHbDlU",
        "outputId": "437a75c1-dde3-4864-f076-971d16e26b76"
      },
      "source": [
        "a=b=c=1\n",
        "a,b,c = 1,2,'Prince Mishra'\n",
        "print(\"a=\",a,\"b=\",b,\"c=\",c)"
      ],
      "execution_count": null,
      "outputs": [
        {
          "output_type": "stream",
          "text": [
            "a= 1 b= 2 c= Prince Mishra\n"
          ],
          "name": "stdout"
        }
      ]
    },
    {
      "cell_type": "code",
      "metadata": {
        "colab": {
          "base_uri": "https://localhost:8080/"
        },
        "id": "I7fnmq_Pbyn-",
        "outputId": "fb85c8b3-b3be-4810-a80c-5b5217dcebfd"
      },
      "source": [
        "x1,y1 = 2,3\n",
        "x2,y2 = 6,8\n",
        "m,b = float(y1-y2)/(x1-x2),y1- float(y1-y2)/(x1-x2)*x1\n",
        "print(\"y=\",m,\"*x+\",b)"
      ],
      "execution_count": null,
      "outputs": [
        {
          "output_type": "stream",
          "text": [
            "y= 1.25 *x+ 0.5\n"
          ],
          "name": "stdout"
        }
      ]
    },
    {
      "cell_type": "code",
      "metadata": {
        "colab": {
          "base_uri": "https://localhost:8080/"
        },
        "id": "eSdrsxrudWx2",
        "outputId": "17bd9b50-bbc0-4ac4-89bb-2e5ccb68c01b"
      },
      "source": [
        "xyz=10\n",
        "print(\"xyz = \",xyz)\n",
        "xyz='Prince Mishra'\n",
        "print(\"xyz1 = \",xyz)"
      ],
      "execution_count": null,
      "outputs": [
        {
          "output_type": "stream",
          "text": [
            "xyz =  10\n",
            "xyz1 =  Prince Mishra\n"
          ],
          "name": "stdout"
        }
      ]
    },
    {
      "cell_type": "markdown",
      "metadata": {
        "id": "yINFFPZuH1bp"
      },
      "source": [
        "Boolean"
      ]
    },
    {
      "cell_type": "code",
      "metadata": {
        "colab": {
          "base_uri": "https://localhost:8080/"
        },
        "id": "C9JA4HytH5aE",
        "outputId": "4a7460b8-40af-47c3-e31c-363e20a29ed0"
      },
      "source": [
        "print(4>=3)\n",
        "print(10<2)"
      ],
      "execution_count": null,
      "outputs": [
        {
          "output_type": "stream",
          "text": [
            "True\n",
            "False\n"
          ],
          "name": "stdout"
        }
      ]
    },
    {
      "cell_type": "code",
      "metadata": {
        "colab": {
          "base_uri": "https://localhost:8080/"
        },
        "id": "5a0iPOVQI51y",
        "outputId": "b219f8a7-f275-4271-ce58-8a31f7e06d12"
      },
      "source": [
        "var='123'\n",
        "print(type(var))"
      ],
      "execution_count": null,
      "outputs": [
        {
          "output_type": "stream",
          "text": [
            "<class 'str'>\n"
          ],
          "name": "stdout"
        }
      ]
    },
    {
      "cell_type": "markdown",
      "metadata": {
        "id": "2LdQKQKMTJoK"
      },
      "source": [
        "Importing Math Module"
      ]
    },
    {
      "cell_type": "code",
      "metadata": {
        "colab": {
          "base_uri": "https://localhost:8080/"
        },
        "id": "zoPblYO8JsdM",
        "outputId": "c0d39066-73fc-4722-e056-150c3c5c64d4"
      },
      "source": [
        "import math\n",
        "print(math.pow(3,4))\n",
        "print(math.pi)\n",
        "print(math.sqrt(4))\n",
        "print(math.exp(10))"
      ],
      "execution_count": null,
      "outputs": [
        {
          "output_type": "stream",
          "text": [
            "81.0\n",
            "3.141592653589793\n",
            "2.0\n",
            "22026.465794806718\n"
          ],
          "name": "stdout"
        }
      ]
    },
    {
      "cell_type": "markdown",
      "metadata": {
        "id": "B1b-CLWoTQF0"
      },
      "source": [
        "Input Function"
      ]
    },
    {
      "cell_type": "code",
      "metadata": {
        "colab": {
          "base_uri": "https://localhost:8080/"
        },
        "id": "Yy7E3VjfMFM6",
        "outputId": "94ddac33-8a1e-4d60-bb25-74e90c3217e6"
      },
      "source": [
        "a=int(input(\"Enter the int value \"))\n",
        "print(\"a=\",a)\n",
        "print(type(a))"
      ],
      "execution_count": null,
      "outputs": [
        {
          "output_type": "stream",
          "text": [
            "Enter the int value 50\n",
            "a= 50\n",
            "<class 'int'>\n"
          ],
          "name": "stdout"
        }
      ]
    },
    {
      "cell_type": "code",
      "metadata": {
        "colab": {
          "base_uri": "https://localhost:8080/"
        },
        "id": "PnfoFWojNc3m",
        "outputId": "d7c9f269-d7af-4921-d465-addfec41da0f"
      },
      "source": [
        "b=input(\"Enter the string \")\n",
        "print(\"b=\",b)\n",
        "print(type(b))"
      ],
      "execution_count": null,
      "outputs": [
        {
          "output_type": "stream",
          "text": [
            "Enter the string hello\n",
            "b= hello\n",
            "<class 'str'>\n"
          ],
          "name": "stdout"
        }
      ]
    },
    {
      "cell_type": "code",
      "metadata": {
        "colab": {
          "base_uri": "https://localhost:8080/"
        },
        "id": "-a6snSi_NxZk",
        "outputId": "66e662ce-a038-4502-9e9a-b1a868e52c35"
      },
      "source": [
        "c=float(input(\"Enter the float \"))\n",
        "print(\"c=\",c)\n",
        "print(type(c))"
      ],
      "execution_count": null,
      "outputs": [
        {
          "output_type": "stream",
          "text": [
            "Enter the float 25.53\n",
            "c= 25.53\n",
            "<class 'float'>\n"
          ],
          "name": "stdout"
        }
      ]
    },
    {
      "cell_type": "code",
      "metadata": {
        "colab": {
          "base_uri": "https://localhost:8080/"
        },
        "id": "pK9AJTrvUiJQ",
        "outputId": "0703827e-be18-41b6-b7d4-a7809cbdea07"
      },
      "source": [
        "print(25/10)\n",
        "print(25//10) #Truncation Division OR Floor division\n",
        "print(25//10.0) #Truncation Division OR Floor division\n",
        "print(25%10)\n",
        "print(10**2) #Exponentiation"
      ],
      "execution_count": null,
      "outputs": [
        {
          "output_type": "stream",
          "text": [
            "2.5\n",
            "2\n",
            "2.0\n",
            "5\n",
            "100\n"
          ],
          "name": "stdout"
        }
      ]
    },
    {
      "cell_type": "code",
      "metadata": {
        "colab": {
          "base_uri": "https://localhost:8080/"
        },
        "id": "v3MSNF9HVwkF",
        "outputId": "3e7d017b-5dcd-4956-df65-48ff6b5e6d9a"
      },
      "source": [
        "print((2+3)*4)"
      ],
      "execution_count": null,
      "outputs": [
        {
          "output_type": "stream",
          "text": [
            "20\n"
          ],
          "name": "stdout"
        }
      ]
    },
    {
      "cell_type": "code",
      "metadata": {
        "colab": {
          "base_uri": "https://localhost:8080/"
        },
        "id": "XgrCUrR5V5er",
        "outputId": "82c63b0b-1f65-4ccb-cfd4-bd1872b86b66"
      },
      "source": [
        "print(2+(3*4))"
      ],
      "execution_count": null,
      "outputs": [
        {
          "output_type": "stream",
          "text": [
            "14\n"
          ],
          "name": "stdout"
        }
      ]
    },
    {
      "cell_type": "code",
      "metadata": {
        "colab": {
          "base_uri": "https://localhost:8080/"
        },
        "id": "ufnCb7cAWA8z",
        "outputId": "952b3c8f-97c8-4bc6-edb4-73cde0ca40f9"
      },
      "source": [
        "print(2+((3*4)-8))"
      ],
      "execution_count": null,
      "outputs": [
        {
          "output_type": "stream",
          "text": [
            "6\n"
          ],
          "name": "stdout"
        }
      ]
    },
    {
      "cell_type": "code",
      "metadata": {
        "colab": {
          "base_uri": "https://localhost:8080/"
        },
        "id": "OWNJSbMCWHmX",
        "outputId": "d05db5a3-5ba4-4d3f-a520-7de5aab39140"
      },
      "source": [
        "print(2+3*(4-1))"
      ],
      "execution_count": null,
      "outputs": [
        {
          "output_type": "stream",
          "text": [
            "11\n"
          ],
          "name": "stdout"
        }
      ]
    },
    {
      "cell_type": "code",
      "metadata": {
        "colab": {
          "base_uri": "https://localhost:8080/"
        },
        "id": "ejdWh09lZZkG",
        "outputId": "163a15a6-519e-42a1-fdee-9aedc7c16de4"
      },
      "source": [
        "print(\"Float =\",float(6+4))\n",
        "print(\"integer =\",int(3.99))"
      ],
      "execution_count": null,
      "outputs": [
        {
          "output_type": "stream",
          "text": [
            "Float = 10.0\n",
            "integer = 3\n"
          ],
          "name": "stdout"
        }
      ]
    },
    {
      "cell_type": "markdown",
      "metadata": {
        "id": "9_nmz7UxaCST"
      },
      "source": [
        "Q. WAP to convert given temperature in Fahrenheit to Celsius"
      ]
    },
    {
      "cell_type": "code",
      "metadata": {
        "colab": {
          "base_uri": "https://localhost:8080/"
        },
        "id": "Bh7xPppDaE4k",
        "outputId": "86c3ce7b-5dbb-4a63-ad42-c7bc70f4518e"
      },
      "source": [
        "f=float(input(\"Enter the Fahrenheit temperature \"))\n",
        "c=(f-32)*5/9\n",
        "print(\"Celsius Temperature =\",c)"
      ],
      "execution_count": null,
      "outputs": [
        {
          "output_type": "stream",
          "text": [
            "Enter the Fahrenheit temperature 99\n",
            "Celsius Temperature = 37.22222222222222\n"
          ],
          "name": "stdout"
        }
      ]
    },
    {
      "cell_type": "markdown",
      "metadata": {
        "id": "8t3cj5ZYbGoP"
      },
      "source": [
        "Q. WAP read 3 number and print their sum."
      ]
    },
    {
      "cell_type": "code",
      "metadata": {
        "id": "OzUi9JqObONF",
        "colab": {
          "base_uri": "https://localhost:8080/"
        },
        "outputId": "d43b2986-1b92-44d1-b439-945b40eb8da1"
      },
      "source": [
        "num1=int(input(\"Enter the first  number : \"))\n",
        "num2=int(input(\"Enter the second number : \"))\n",
        "num3=int(input(\"Enter the third  number : \"))\n",
        "sum=num1+num2+num3\n",
        "print(\"sum = \",sum)"
      ],
      "execution_count": null,
      "outputs": [
        {
          "output_type": "stream",
          "name": "stdout",
          "text": [
            "Enter the first  number : 10\n",
            "Enter the second number : 15\n",
            "Enter the third  number : 25\n",
            "sum =  50\n"
          ]
        }
      ]
    },
    {
      "cell_type": "code",
      "metadata": {
        "colab": {
          "base_uri": "https://localhost:8080/"
        },
        "id": "-uiJhWOVQM02",
        "outputId": "02f18f3f-1ae7-497b-f70e-298f56afd3d7"
      },
      "source": [
        "num1,num2,num3=int(input(\"Enter the first  number : \")),int(input(\"Enter the second number : \")),int(input(\"Enter the third  number : \"))\n",
        "sum=num1+num2+num3\n",
        "print(\"sum = \",sum)"
      ],
      "execution_count": 5,
      "outputs": [
        {
          "output_type": "stream",
          "name": "stdout",
          "text": [
            "Enter the first  number : 10\n",
            "Enter the second number : 3\n",
            "Enter the third  number : 4\n",
            "sum =  17\n"
          ]
        }
      ]
    },
    {
      "cell_type": "markdown",
      "metadata": {
        "id": "mJm6fy9AQKSr"
      },
      "source": [
        "Q. WAP to find sides of triangle from it's sides"
      ]
    },
    {
      "cell_type": "code",
      "metadata": {
        "colab": {
          "base_uri": "https://localhost:8080/"
        },
        "id": "DuLanP8gQT4f",
        "outputId": "f92741d8-e874-4566-cb76-0585a16b7526"
      },
      "source": [
        "import math\n",
        "a=float(input(\"Enter the side(a) : \"))\n",
        "b=float(input(\"Enter the side(b) : \"))\n",
        "c=float(input(\"Enter the side(c) : \"))\n",
        "s=((a+b+c)/2)\n",
        "area=math.sqrt(s*(s-a)*(s-b)*(s-c))\n",
        "print(\"Area of a triangle with sides\",a,',',b,',',c,'is ',area)"
      ],
      "execution_count": 4,
      "outputs": [
        {
          "output_type": "stream",
          "name": "stdout",
          "text": [
            "Enter the side(a) : 3\n",
            "Enter the side(b) : 5\n",
            "Enter the side(c) : 8\n",
            "Area of a triangle with sides 3.0 , 5.0 , 8.0 is  0.0\n"
          ]
        }
      ]
    },
    {
      "cell_type": "code",
      "metadata": {
        "colab": {
          "base_uri": "https://localhost:8080/"
        },
        "id": "8qZ_UrSxRJug",
        "outputId": "b5f5cf4d-28df-4ef1-ca8d-5589b15f0884"
      },
      "source": [
        "ones=int(input(\"enter ones digit: \"))\n",
        "sum=ones*(2**0)\n",
        "tens=int(input(\"enter tens digit: \"))\n",
        "sum=sum+(tens*(2**1))\n",
        "hundreds=int(input(\"enter hundreds digit: \"))\n",
        "sum=sum+(hundreds*(2**2))\n",
        "thousands=int(input(\"enter thousandss digit: \"))\n",
        "sum=sum+(thousands*(2**3))\n",
        "print(\"Binary to Decimal conversion : \\n\",sum)"
      ],
      "execution_count": null,
      "outputs": [
        {
          "output_type": "stream",
          "name": "stdout",
          "text": [
            "enter ones digit: 1\n",
            "enter tens digit: 0\n",
            "enter hundreds digit: 1\n",
            "enter thousandss digit: 0\n",
            "Binary to Decimal conversion : \n",
            " 5\n"
          ]
        }
      ]
    },
    {
      "cell_type": "code",
      "metadata": {
        "colab": {
          "base_uri": "https://localhost:8080/"
        },
        "id": "OtnWfJ74RXVj",
        "outputId": "40a74767-ea86-473f-effc-b4866c5d2fff"
      },
      "source": [
        "x=int(input(\"Enter the number : \"))\n",
        "y=int(input(\"Enter the power  : \"))\n",
        "print(x,\"to the power\",y,'is',x**y)"
      ],
      "execution_count": null,
      "outputs": [
        {
          "output_type": "stream",
          "name": "stdout",
          "text": [
            "Enter the number : 2\n",
            "Enter the power  : 5\n",
            "2 to the power 5 is 32\n"
          ]
        }
      ]
    },
    {
      "cell_type": "code",
      "metadata": {
        "colab": {
          "base_uri": "https://localhost:8080/"
        },
        "id": "9o9RSaCcRfa0",
        "outputId": "b762394d-9f8e-4df6-aca7-d056628fec05"
      },
      "source": [
        "import math\n",
        "a=int(input(\"Enter the a : \"))\n",
        "b=int(input(\"Enter the b : \"))\n",
        "c=int(input(\"Enter the c : \"))\n",
        "d=(b**2)-4*a*c\n",
        "print(\"Root 1=\",(-b+math.sqrt(d))/(2*a))\n",
        "print(\"Root 2=\",(-b-math.sqrt(d))/(2*a))"
      ],
      "execution_count": null,
      "outputs": [
        {
          "output_type": "stream",
          "name": "stdout",
          "text": [
            "Enter the a : 1\n",
            "Enter the b : 4\n",
            "Enter the c : 0\n",
            "Root 1= 0.0\n",
            "Root 2= -4.0\n"
          ]
        }
      ]
    },
    {
      "cell_type": "code",
      "metadata": {
        "colab": {
          "base_uri": "https://localhost:8080/"
        },
        "id": "jIGMDZYFSNtf",
        "outputId": "d1ae7aa3-fd0c-424b-f5f2-a9ba2def02b3"
      },
      "source": [
        "num1=int(input(\"Enter the first  number : \"))\n",
        "num2=int(input(\"Enter the second number : \"))\n",
        "sum=num1+num2\n",
        "print(\"sum {0} and {1} is {2} \".format(num1,num2,sum))"
      ],
      "execution_count": null,
      "outputs": [
        {
          "output_type": "stream",
          "name": "stdout",
          "text": [
            "Enter the first  number : 10\n",
            "Enter the second number : 20\n",
            "sum 10 and 20 is 30 \n"
          ]
        }
      ]
    },
    {
      "cell_type": "code",
      "metadata": {
        "colab": {
          "base_uri": "https://localhost:8080/"
        },
        "id": "qlenZ8ZbSSNd",
        "outputId": "d181e6fa-8f84-4f9a-bd1f-5f2ef4115411"
      },
      "source": [
        "a=int(input(\"Enter the a : \"))\n",
        "b=int(input(\"Enter the b : \"))\n",
        "t=a\n",
        "a=b\n",
        "b=t\n",
        "print(\"The value of a before swaping is {0} after swaping is {1}\".format(b,a))\n",
        "print(\"The value of b before swaping is {0} after swaping is {1}\".format(a,b))"
      ],
      "execution_count": null,
      "outputs": [
        {
          "output_type": "stream",
          "name": "stdout",
          "text": [
            "Enter the a : 10\n",
            "Enter the b : 55\n",
            "The value of a before swaping is 10 after swaping is 55\n",
            "The value of b before swaping is 55 after swaping is 10\n"
          ]
        }
      ]
    }
  ]
}
